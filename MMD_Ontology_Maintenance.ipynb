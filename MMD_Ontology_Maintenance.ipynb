{
  "nbformat": 4,
  "nbformat_minor": 0,
  "metadata": {
    "kernelspec": {
      "display_name": "Python 3",
      "language": "python",
      "name": "python3"
    },
    "language_info": {
      "codemirror_mode": {
        "name": "ipython",
        "version": 3
      },
      "file_extension": ".py",
      "mimetype": "text/x-python",
      "name": "python",
      "nbconvert_exporter": "python",
      "pygments_lexer": "ipython3",
      "version": "3.7.7"
    },
    "colab": {
      "name": "MMD_Ontology_Maintenance.ipynb",
      "provenance": [],
      "toc_visible": true
    }
  },
  "cells": [
    {
      "cell_type": "markdown",
      "metadata": {
        "id": "4kKoAtUqXguE"
      },
      "source": [
        "# Maximum Mean Discrepancy for Ontology Maintenance\n",
        "In this notebook, the MMD can be calculated for sentences containing two similar concepts to determine whether or not to merge them in the ontology. Note for users: The MMD score calculation requires 40-45 GB RAM. "
      ]
    },
    {
      "cell_type": "markdown",
      "metadata": {
        "id": "9HpveW2N48Fq"
      },
      "source": [
        "### Calculation can be completed with virtual machine providers such as Google cloud.\n",
        "\n"
      ]
    },
    {
      "cell_type": "code",
      "metadata": {
        "id": "vDirrbolfy_Y"
      },
      "source": [
        "# ! gcloud init"
      ],
      "execution_count": null,
      "outputs": []
    },
    {
      "cell_type": "markdown",
      "metadata": {
        "id": "GC1N4Ml65KpQ"
      },
      "source": [
        "Imports"
      ]
    },
    {
      "cell_type": "code",
      "metadata": {
        "id": "gv3vRU0DXguK"
      },
      "source": [
        "import numpy as np\n",
        "import os\n",
        "import pandas as pd\n",
        "from ast import literal_eval\n",
        "import json\n",
        "import torch\n",
        "import torch.nn as nn"
      ],
      "execution_count": 1,
      "outputs": []
    },
    {
      "cell_type": "markdown",
      "metadata": {
        "id": "UI8IeQkc5P__"
      },
      "source": [
        "## Example Data Input"
      ]
    },
    {
      "cell_type": "markdown",
      "metadata": {
        "id": "gko_4Crk6d0n"
      },
      "source": [
        "DataFrame for Term 1 including embeddings and term *name*:"
      ]
    },
    {
      "cell_type": "code",
      "metadata": {
        "id": "WaTIRBWOc0XO",
        "colab": {
          "base_uri": "https://localhost:8080/",
          "height": 406
        },
        "outputId": "7831d3a8-62fb-4493-991d-29c8f52a1ca9"
      },
      "source": [
        "tachycardia = Data_term1_2[Data_term1_2['allterms'] == 'tachycardia']\n",
        "tachycardia"
      ],
      "execution_count": null,
      "outputs": [
        {
          "output_type": "execute_result",
          "data": {
            "text/html": [
              "<div>\n",
              "<style scoped>\n",
              "    .dataframe tbody tr th:only-of-type {\n",
              "        vertical-align: middle;\n",
              "    }\n",
              "\n",
              "    .dataframe tbody tr th {\n",
              "        vertical-align: top;\n",
              "    }\n",
              "\n",
              "    .dataframe thead th {\n",
              "        text-align: right;\n",
              "    }\n",
              "</style>\n",
              "<table border=\"1\" class=\"dataframe\">\n",
              "  <thead>\n",
              "    <tr style=\"text-align: right;\">\n",
              "      <th></th>\n",
              "      <th>Unnamed: 0</th>\n",
              "      <th>all_asjc</th>\n",
              "      <th>broad_asjc_exploded</th>\n",
              "      <th>docId</th>\n",
              "      <th>embedding</th>\n",
              "      <th>issn</th>\n",
              "      <th>label</th>\n",
              "      <th>offset</th>\n",
              "      <th>pos</th>\n",
              "      <th>term</th>\n",
              "      <th>allterms</th>\n",
              "    </tr>\n",
              "  </thead>\n",
              "  <tbody>\n",
              "    <tr>\n",
              "      <th>0</th>\n",
              "      <td>0</td>\n",
              "      <td>['2705' '2737']</td>\n",
              "      <td>27</td>\n",
              "      <td>S1547527118309196</td>\n",
              "      <td>[0.14747348427772522,0.1459769904613495,-0.511...</td>\n",
              "      <td>15475271</td>\n",
              "      <td>1</td>\n",
              "      <td>258</td>\n",
              "      <td>NN</td>\n",
              "      <td>tachycardia</td>\n",
              "      <td>tachycardia</td>\n",
              "    </tr>\n",
              "    <tr>\n",
              "      <th>1</th>\n",
              "      <td>1</td>\n",
              "      <td>['2705']</td>\n",
              "      <td>27</td>\n",
              "      <td>S2352906714000700</td>\n",
              "      <td>[0.1062718853354454,-0.439564049243927,0.05402...</td>\n",
              "      <td>23529067</td>\n",
              "      <td>1</td>\n",
              "      <td>90</td>\n",
              "      <td>NN</td>\n",
              "      <td>tachycardia</td>\n",
              "      <td>tachycardia</td>\n",
              "    </tr>\n",
              "    <tr>\n",
              "      <th>2</th>\n",
              "      <td>2</td>\n",
              "      <td>['2711']</td>\n",
              "      <td>27</td>\n",
              "      <td>S0196064418301707</td>\n",
              "      <td>[-0.2664773464202881,-0.1106829047203064,-0.19...</td>\n",
              "      <td>01960644</td>\n",
              "      <td>1</td>\n",
              "      <td>178</td>\n",
              "      <td>NN</td>\n",
              "      <td>tachycardia</td>\n",
              "      <td>tachycardia</td>\n",
              "    </tr>\n",
              "    <tr>\n",
              "      <th>3</th>\n",
              "      <td>3</td>\n",
              "      <td>['2706']</td>\n",
              "      <td>27</td>\n",
              "      <td>S0883944117310675</td>\n",
              "      <td>[0.038361646234989166,-0.36324775218963623,-0....</td>\n",
              "      <td>08839441</td>\n",
              "      <td>1</td>\n",
              "      <td>362</td>\n",
              "      <td>NN</td>\n",
              "      <td>tachycardia</td>\n",
              "      <td>tachycardia</td>\n",
              "    </tr>\n",
              "    <tr>\n",
              "      <th>4</th>\n",
              "      <td>4</td>\n",
              "      <td>['2705' '2737']</td>\n",
              "      <td>27</td>\n",
              "      <td>S1547527114011205</td>\n",
              "      <td>[0.09001897275447845,0.022551456466317177,-0.3...</td>\n",
              "      <td>15475271</td>\n",
              "      <td>1</td>\n",
              "      <td>225</td>\n",
              "      <td>NN</td>\n",
              "      <td>tachycardia</td>\n",
              "      <td>tachycardia</td>\n",
              "    </tr>\n",
              "    <tr>\n",
              "      <th>...</th>\n",
              "      <td>...</td>\n",
              "      <td>...</td>\n",
              "      <td>...</td>\n",
              "      <td>...</td>\n",
              "      <td>...</td>\n",
              "      <td>...</td>\n",
              "      <td>...</td>\n",
              "      <td>...</td>\n",
              "      <td>...</td>\n",
              "      <td>...</td>\n",
              "      <td>...</td>\n",
              "    </tr>\n",
              "    <tr>\n",
              "      <th>89995</th>\n",
              "      <td>89995</td>\n",
              "      <td>['2705' '2741']</td>\n",
              "      <td>27</td>\n",
              "      <td>S1936878X10001300</td>\n",
              "      <td>[0.24832430481910706,-0.04433631896972656,-0.2...</td>\n",
              "      <td>1936878X</td>\n",
              "      <td>1</td>\n",
              "      <td>131</td>\n",
              "      <td>NN</td>\n",
              "      <td>tachycardia</td>\n",
              "      <td>tachycardia</td>\n",
              "    </tr>\n",
              "    <tr>\n",
              "      <th>89996</th>\n",
              "      <td>89996</td>\n",
              "      <td>['2705' '2737']</td>\n",
              "      <td>27</td>\n",
              "      <td>S1547527106000671</td>\n",
              "      <td>[-0.047779105603694916,-0.3508870005607605,-0....</td>\n",
              "      <td>15475271</td>\n",
              "      <td>1</td>\n",
              "      <td>84</td>\n",
              "      <td>NN</td>\n",
              "      <td>tachycardia</td>\n",
              "      <td>tachycardia</td>\n",
              "    </tr>\n",
              "    <tr>\n",
              "      <th>89997</th>\n",
              "      <td>89997</td>\n",
              "      <td>['2705']</td>\n",
              "      <td>27</td>\n",
              "      <td>S073510971831934X</td>\n",
              "      <td>[0.2683626711368561,0.24180784821510315,0.1825...</td>\n",
              "      <td>07351097</td>\n",
              "      <td>1</td>\n",
              "      <td>63</td>\n",
              "      <td>NN</td>\n",
              "      <td>tachycardia</td>\n",
              "      <td>tachycardia</td>\n",
              "    </tr>\n",
              "    <tr>\n",
              "      <th>89998</th>\n",
              "      <td>89998</td>\n",
              "      <td>['2705' '2737']</td>\n",
              "      <td>27</td>\n",
              "      <td>S1547527109000022</td>\n",
              "      <td>[0.09048610180616379,-0.2487306296825409,0.066...</td>\n",
              "      <td>15475271</td>\n",
              "      <td>1</td>\n",
              "      <td>52</td>\n",
              "      <td>NN</td>\n",
              "      <td>tachycardia</td>\n",
              "      <td>tachycardia</td>\n",
              "    </tr>\n",
              "    <tr>\n",
              "      <th>89999</th>\n",
              "      <td>89999</td>\n",
              "      <td>['2700']</td>\n",
              "      <td>27</td>\n",
              "      <td>S0002934310004559</td>\n",
              "      <td>[-0.4047677218914032,-0.24200484156608582,-0.1...</td>\n",
              "      <td>00029343</td>\n",
              "      <td>1</td>\n",
              "      <td>44</td>\n",
              "      <td>NN</td>\n",
              "      <td>tachycardia</td>\n",
              "      <td>tachycardia</td>\n",
              "    </tr>\n",
              "  </tbody>\n",
              "</table>\n",
              "<p>90000 rows × 11 columns</p>\n",
              "</div>"
            ],
            "text/plain": [
              "       Unnamed: 0         all_asjc  ...         term     allterms\n",
              "0               0  ['2705' '2737']  ...  tachycardia  tachycardia\n",
              "1               1         ['2705']  ...  tachycardia  tachycardia\n",
              "2               2         ['2711']  ...  tachycardia  tachycardia\n",
              "3               3         ['2706']  ...  tachycardia  tachycardia\n",
              "4               4  ['2705' '2737']  ...  tachycardia  tachycardia\n",
              "...           ...              ...  ...          ...          ...\n",
              "89995       89995  ['2705' '2741']  ...  tachycardia  tachycardia\n",
              "89996       89996  ['2705' '2737']  ...  tachycardia  tachycardia\n",
              "89997       89997         ['2705']  ...  tachycardia  tachycardia\n",
              "89998       89998  ['2705' '2737']  ...  tachycardia  tachycardia\n",
              "89999       89999         ['2700']  ...  tachycardia  tachycardia\n",
              "\n",
              "[90000 rows x 11 columns]"
            ]
          },
          "metadata": {
            "tags": []
          },
          "execution_count": 12
        }
      ]
    },
    {
      "cell_type": "markdown",
      "metadata": {
        "id": "BD2SOI9q6fVj"
      },
      "source": [
        "DataFrame for Term 2 including embeddings and term *name*:"
      ]
    },
    {
      "cell_type": "code",
      "metadata": {
        "id": "JKYT_1Ssc4Pq",
        "colab": {
          "base_uri": "https://localhost:8080/",
          "height": 440
        },
        "outputId": "7a472671-3018-498e-b0cb-74a484132577"
      },
      "source": [
        "tachyarrhythmia = Data_term1_2[Data_term1_2['allterms'] == 'tachyarrhythmia']\n",
        "tachyarrhythmia"
      ],
      "execution_count": null,
      "outputs": [
        {
          "output_type": "execute_result",
          "data": {
            "text/html": [
              "<div>\n",
              "<style scoped>\n",
              "    .dataframe tbody tr th:only-of-type {\n",
              "        vertical-align: middle;\n",
              "    }\n",
              "\n",
              "    .dataframe tbody tr th {\n",
              "        vertical-align: top;\n",
              "    }\n",
              "\n",
              "    .dataframe thead th {\n",
              "        text-align: right;\n",
              "    }\n",
              "</style>\n",
              "<table border=\"1\" class=\"dataframe\">\n",
              "  <thead>\n",
              "    <tr style=\"text-align: right;\">\n",
              "      <th></th>\n",
              "      <th>Unnamed: 0</th>\n",
              "      <th>all_asjc</th>\n",
              "      <th>broad_asjc_exploded</th>\n",
              "      <th>docId</th>\n",
              "      <th>embedding</th>\n",
              "      <th>issn</th>\n",
              "      <th>label</th>\n",
              "      <th>offset</th>\n",
              "      <th>pos</th>\n",
              "      <th>term</th>\n",
              "      <th>allterms</th>\n",
              "    </tr>\n",
              "  </thead>\n",
              "  <tbody>\n",
              "    <tr>\n",
              "      <th>90000</th>\n",
              "      <td>0</td>\n",
              "      <td>['2705' '2737']</td>\n",
              "      <td>27</td>\n",
              "      <td>S0972629216307409</td>\n",
              "      <td>[0.15877412259578705,0.20141197741031647,0.412...</td>\n",
              "      <td>09726292</td>\n",
              "      <td>1</td>\n",
              "      <td>87</td>\n",
              "      <td>NN</td>\n",
              "      <td>tachyarrhythmia</td>\n",
              "      <td>tachyarrhythmia</td>\n",
              "    </tr>\n",
              "    <tr>\n",
              "      <th>90001</th>\n",
              "      <td>1</td>\n",
              "      <td>['2705']</td>\n",
              "      <td>27</td>\n",
              "      <td>S016752731631213X</td>\n",
              "      <td>[-0.05676533281803131,-0.1182749941945076,0.08...</td>\n",
              "      <td>01675273</td>\n",
              "      <td>1</td>\n",
              "      <td>223</td>\n",
              "      <td>NN</td>\n",
              "      <td>tachyarrhythmia</td>\n",
              "      <td>tachyarrhythmia</td>\n",
              "    </tr>\n",
              "    <tr>\n",
              "      <th>90002</th>\n",
              "      <td>2</td>\n",
              "      <td>['2705' '2740' '2746']</td>\n",
              "      <td>27</td>\n",
              "      <td>S0022522317309182</td>\n",
              "      <td>[-0.25963646173477173,0.3415696322917938,-0.35...</td>\n",
              "      <td>00225223</td>\n",
              "      <td>1</td>\n",
              "      <td>77</td>\n",
              "      <td>NN</td>\n",
              "      <td>tachyarrhythmia</td>\n",
              "      <td>tachyarrhythmia</td>\n",
              "    </tr>\n",
              "    <tr>\n",
              "      <th>90003</th>\n",
              "      <td>3</td>\n",
              "      <td>['2705' '2706' '2740']</td>\n",
              "      <td>27</td>\n",
              "      <td>S0012369215513500</td>\n",
              "      <td>[-0.20454366505146027,-0.14279726147651672,-0....</td>\n",
              "      <td>00123692</td>\n",
              "      <td>1</td>\n",
              "      <td>178</td>\n",
              "      <td>NN</td>\n",
              "      <td>tachyarrhythmia</td>\n",
              "      <td>tachyarrhythmia</td>\n",
              "    </tr>\n",
              "    <tr>\n",
              "      <th>90004</th>\n",
              "      <td>4</td>\n",
              "      <td>['2705']</td>\n",
              "      <td>27</td>\n",
              "      <td>S0167527315008529</td>\n",
              "      <td>[-0.42706137895584106,-0.2416134476661682,-0.2...</td>\n",
              "      <td>01675273</td>\n",
              "      <td>1</td>\n",
              "      <td>180</td>\n",
              "      <td>NN</td>\n",
              "      <td>tachyarrhythmia</td>\n",
              "      <td>tachyarrhythmia</td>\n",
              "    </tr>\n",
              "    <tr>\n",
              "      <th>...</th>\n",
              "      <td>...</td>\n",
              "      <td>...</td>\n",
              "      <td>...</td>\n",
              "      <td>...</td>\n",
              "      <td>...</td>\n",
              "      <td>...</td>\n",
              "      <td>...</td>\n",
              "      <td>...</td>\n",
              "      <td>...</td>\n",
              "      <td>...</td>\n",
              "      <td>...</td>\n",
              "    </tr>\n",
              "    <tr>\n",
              "      <th>99909</th>\n",
              "      <td>9909</td>\n",
              "      <td>['3004']</td>\n",
              "      <td>30</td>\n",
              "      <td>S0014299907003032</td>\n",
              "      <td>[-0.2808833718299866,-0.1459818333387375,0.140...</td>\n",
              "      <td>00142999</td>\n",
              "      <td>0</td>\n",
              "      <td>47</td>\n",
              "      <td>NN</td>\n",
              "      <td>tachyarrhythmia</td>\n",
              "      <td>tachyarrhythmia</td>\n",
              "    </tr>\n",
              "    <tr>\n",
              "      <th>99910</th>\n",
              "      <td>9910</td>\n",
              "      <td>['3004' '3005']</td>\n",
              "      <td>30</td>\n",
              "      <td>S0041008X05002371</td>\n",
              "      <td>[0.2768738269805908,-0.05070939660072327,0.059...</td>\n",
              "      <td>0041008X</td>\n",
              "      <td>0</td>\n",
              "      <td>113</td>\n",
              "      <td>NN</td>\n",
              "      <td>tachyarrhythmia</td>\n",
              "      <td>tachyarrhythmia</td>\n",
              "    </tr>\n",
              "    <tr>\n",
              "      <th>99911</th>\n",
              "      <td>9911</td>\n",
              "      <td>['3004']</td>\n",
              "      <td>30</td>\n",
              "      <td>S0014299913006626</td>\n",
              "      <td>[-0.021888669580221176,-0.2529616951942444,0.0...</td>\n",
              "      <td>00142999</td>\n",
              "      <td>0</td>\n",
              "      <td>276</td>\n",
              "      <td>NN</td>\n",
              "      <td>tachyarrhythmia</td>\n",
              "      <td>tachyarrhythmia</td>\n",
              "    </tr>\n",
              "    <tr>\n",
              "      <th>99912</th>\n",
              "      <td>9912</td>\n",
              "      <td>['1303' '1304' '1307' '1312']</td>\n",
              "      <td>13</td>\n",
              "      <td>S0006291X06018699</td>\n",
              "      <td>[-0.2943525016307831,-0.16969314217567444,0.45...</td>\n",
              "      <td>0006291X</td>\n",
              "      <td>0</td>\n",
              "      <td>5</td>\n",
              "      <td>NN</td>\n",
              "      <td>tachyarrhythmia</td>\n",
              "      <td>tachyarrhythmia</td>\n",
              "    </tr>\n",
              "    <tr>\n",
              "      <th>99913</th>\n",
              "      <td>9913</td>\n",
              "      <td>['3004' '3005']</td>\n",
              "      <td>30</td>\n",
              "      <td>S0041008X17301102</td>\n",
              "      <td>[-0.3827342987060547,-0.25600379705429077,0.07...</td>\n",
              "      <td>0041008X</td>\n",
              "      <td>0</td>\n",
              "      <td>124</td>\n",
              "      <td>NN</td>\n",
              "      <td>tachyarrhythmia</td>\n",
              "      <td>tachyarrhythmia</td>\n",
              "    </tr>\n",
              "  </tbody>\n",
              "</table>\n",
              "<p>9914 rows × 11 columns</p>\n",
              "</div>"
            ],
            "text/plain": [
              "       Unnamed: 0  ...         allterms\n",
              "90000           0  ...  tachyarrhythmia\n",
              "90001           1  ...  tachyarrhythmia\n",
              "90002           2  ...  tachyarrhythmia\n",
              "90003           3  ...  tachyarrhythmia\n",
              "90004           4  ...  tachyarrhythmia\n",
              "...           ...  ...              ...\n",
              "99909        9909  ...  tachyarrhythmia\n",
              "99910        9910  ...  tachyarrhythmia\n",
              "99911        9911  ...  tachyarrhythmia\n",
              "99912        9912  ...  tachyarrhythmia\n",
              "99913        9913  ...  tachyarrhythmia\n",
              "\n",
              "[9914 rows x 11 columns]"
            ]
          },
          "metadata": {
            "tags": []
          },
          "execution_count": 13
        }
      ]
    },
    {
      "cell_type": "markdown",
      "metadata": {
        "id": "5nwUluD26uWx"
      },
      "source": [
        "## Parsing the data"
      ]
    },
    {
      "cell_type": "code",
      "metadata": {
        "id": "nbZ_z6x-Xguk"
      },
      "source": [
        "def safe_parse(x):\n",
        "    try:\n",
        "        # return np.array(literal_eval(x))\n",
        "        return json.loads(x)\n",
        "    except (SyntaxError, ValueError):\n",
        "        print(x)\n",
        "        return np.nan # replace with any suitable placeholder value"
      ],
      "execution_count": null,
      "outputs": []
    },
    {
      "cell_type": "markdown",
      "metadata": {
        "id": "ajiyVbYz7B-y"
      },
      "source": [
        "Suggested Sample Size for MMD Calculation is 1000"
      ]
    },
    {
      "cell_type": "code",
      "metadata": {
        "id": "-f0iTkxG639y"
      },
      "source": [
        "SAMPLE_SIZE = 1000"
      ],
      "execution_count": null,
      "outputs": []
    },
    {
      "cell_type": "markdown",
      "metadata": {
        "id": "P4IFzwHb7Uo9"
      },
      "source": [
        "Example output for parsed data, should include embeddings per concept"
      ]
    },
    {
      "cell_type": "code",
      "metadata": {
        "id": "pXj2M4MOXgum",
        "colab": {
          "base_uri": "https://localhost:8080/",
          "height": 176
        },
        "outputId": "ea623222-0090-4816-b79a-73a22c11ba0c"
      },
      "source": [
        "tachycardia_sample = tachycardia.sample(n=SAMPLE_SIZE)\n",
        "tachycardia_sample[\"embedding\"] = tachycardia[\"embedding\"].apply(safe_parse)\n",
        "tachyarrhythmia_sample = tachyarrhythmia.sample(n=SAMPLE_SIZE)\n",
        "tachyarrhythmia_sample[\"embedding\"] = tachyarrhythmia[\"embedding\"].apply(safe_parse)\n",
        "print(tachycardia_sample.head())\n",
        "print()"
      ],
      "execution_count": null,
      "outputs": [
        {
          "output_type": "stream",
          "text": [
            "       Unnamed: 0         all_asjc  ...         term     allterms\n",
            "78203       78203         ['2705']  ...  tachycardia  tachycardia\n",
            "60948       60948  ['2705' '2737']  ...  tachycardia  tachycardia\n",
            "29040       29040         ['2700']  ...  tachycardia  tachycardia\n",
            "51006       51006         ['3004']  ...  tachycardia  tachycardia\n",
            "32650       32650         ['2700']  ...  tachycardia  tachycardia\n",
            "\n",
            "[5 rows x 11 columns]\n",
            "\n"
          ],
          "name": "stdout"
        }
      ]
    },
    {
      "cell_type": "markdown",
      "metadata": {
        "id": "wq9hRI6x2I8C"
      },
      "source": [
        "# Class for calculating maximum mean discrepancy loss"
      ]
    },
    {
      "cell_type": "code",
      "metadata": {
        "id": "9-2-vlmoXguq"
      },
      "source": [
        "class MMD_loss(nn.Module):\n",
        "    def __init__(self, kernel_mul = 2.0, kernel_num = 5):\n",
        "        super(MMD_loss, self).__init__()\n",
        "        self.kernel_num = kernel_num\n",
        "        self.kernel_mul = kernel_mul\n",
        "        self.fix_sigma = None\n",
        "        return\n",
        "    def gaussian_kernel(self, source, target, kernel_mul=2.0, kernel_num=5, fix_sigma=None):\n",
        "        n_samples = int(source.size()[0])+int(target.size()[0])\n",
        "        total = torch.cat([source, target], dim=0)\n",
        "\n",
        "        total0 = total.unsqueeze(0).expand(int(total.size(0)), int(total.size(0)), int(total.size(1)))\n",
        "        total1 = total.unsqueeze(1).expand(int(total.size(0)), int(total.size(0)), int(total.size(1)))\n",
        "        L2_distance = ((total0-total1)**2).sum(2) \n",
        "        if fix_sigma:\n",
        "            bandwidth = fix_sigma\n",
        "        else:\n",
        "            bandwidth = torch.sum(L2_distance.data) / (n_samples**2-n_samples)\n",
        "        bandwidth /= kernel_mul ** (kernel_num // 2)\n",
        "        bandwidth_list = [bandwidth * (kernel_mul**i) for i in range(kernel_num)]\n",
        "        kernel_val = [torch.exp(-L2_distance / bandwidth_temp) for bandwidth_temp in bandwidth_list]\n",
        "        return sum(kernel_val)\n",
        "\n",
        "    def forward(self, source, target):\n",
        "        batch_size = int(source.size()[0])\n",
        "        kernels = self.gaussian_kernel(source, target, kernel_mul=self.kernel_mul, kernel_num=self.kernel_num, fix_sigma=self.fix_sigma)\n",
        "        XX = kernels[:batch_size, :batch_size]\n",
        "        YY = kernels[batch_size:, batch_size:]\n",
        "        XY = kernels[:batch_size, batch_size:]\n",
        "        YX = kernels[batch_size:, :batch_size]\n",
        "        loss = torch.mean(XX + YY - XY -YX)\n",
        "        return loss"
      ],
      "execution_count": null,
      "outputs": []
    },
    {
      "cell_type": "code",
      "metadata": {
        "id": "9XLad8CiXguu"
      },
      "source": [
        "mdd_loss = MMD_loss()"
      ],
      "execution_count": null,
      "outputs": []
    },
    {
      "cell_type": "markdown",
      "metadata": {
        "id": "GSHAyE242bcH"
      },
      "source": [
        "# Generating vectors with desired size"
      ]
    },
    {
      "cell_type": "code",
      "metadata": {
        "id": "UYX60UFFXguw",
        "colab": {
          "base_uri": "https://localhost:8080/",
          "height": 52
        },
        "outputId": "bad61832-2297-4074-ea15-45e02633be0c"
      },
      "source": [
        "source_np = np.array([np.array(x) for x in tachycardia_sample[\"embedding\"].to_numpy()])\n",
        "source = torch.from_numpy(source_np)\n",
        "print(source.size())\n",
        "\n",
        "target_np = np.array([np.array(x) for x in tachyarrhythmia_sample[\"embedding\"].to_numpy()])\n",
        "target = torch.from_numpy(target_np)\n",
        "print(target.size())"
      ],
      "execution_count": null,
      "outputs": [
        {
          "output_type": "stream",
          "text": [
            "torch.Size([1000, 768])\n",
            "torch.Size([1000, 768])\n"
          ],
          "name": "stdout"
        }
      ]
    },
    {
      "cell_type": "markdown",
      "metadata": {
        "id": "0qiEWIUwKO4F"
      },
      "source": [
        "Calculating MMD Score"
      ]
    },
    {
      "cell_type": "code",
      "metadata": {
        "id": "fvbrXEm3Xgu0"
      },
      "source": [
        "mdd_loss.forward(source=source, target=target)"
      ],
      "execution_count": null,
      "outputs": []
    },
    {
      "cell_type": "markdown",
      "metadata": {
        "id": "VcalbXPX28_m"
      },
      "source": [
        "## Logarithmic transformation"
      ]
    },
    {
      "cell_type": "code",
      "metadata": {
        "id": "sbD348nuXgu3",
        "outputId": "fd51dc34-6721-4149-b47e-d575e2af8868"
      },
      "source": [
        "import torch.nn.functional as F\n",
        "from torch.distributions import log_normal\n",
        "\n",
        "source_normal = log_normal.LogNormal(source)\n",
        "print(source_normal)\n",
        "target_normal = LogNormal(source)\n",
        "out = F.kl_div(source, target)"
      ],
      "execution_count": null,
      "outputs": [
        {
          "output_type": "error",
          "ename": "TypeError",
          "evalue": "__init__() missing 1 required positional argument: 'scale'",
          "traceback": [
            "\u001b[0;31m---------------------------------------------------------------------------\u001b[0m",
            "\u001b[0;31mTypeError\u001b[0m                                 Traceback (most recent call last)",
            "\u001b[0;32m<ipython-input-41-9e55e3de9bdd>\u001b[0m in \u001b[0;36m<module>\u001b[0;34m\u001b[0m\n\u001b[1;32m      2\u001b[0m \u001b[0;32mfrom\u001b[0m \u001b[0mtorch\u001b[0m\u001b[0;34m.\u001b[0m\u001b[0mdistributions\u001b[0m \u001b[0;32mimport\u001b[0m \u001b[0mlog_normal\u001b[0m\u001b[0;34m\u001b[0m\u001b[0;34m\u001b[0m\u001b[0m\n\u001b[1;32m      3\u001b[0m \u001b[0;34m\u001b[0m\u001b[0m\n\u001b[0;32m----> 4\u001b[0;31m \u001b[0msource_normal\u001b[0m \u001b[0;34m=\u001b[0m \u001b[0mlog_normal\u001b[0m\u001b[0;34m.\u001b[0m\u001b[0mLogNormal\u001b[0m\u001b[0;34m(\u001b[0m\u001b[0msource\u001b[0m\u001b[0;34m)\u001b[0m\u001b[0;34m\u001b[0m\u001b[0;34m\u001b[0m\u001b[0m\n\u001b[0m\u001b[1;32m      5\u001b[0m \u001b[0mprint\u001b[0m\u001b[0;34m(\u001b[0m\u001b[0msource_normal\u001b[0m\u001b[0;34m)\u001b[0m\u001b[0;34m\u001b[0m\u001b[0;34m\u001b[0m\u001b[0m\n\u001b[1;32m      6\u001b[0m \u001b[0;31m# target_normal = LogNormal(source)\u001b[0m\u001b[0;34m\u001b[0m\u001b[0;34m\u001b[0m\u001b[0;34m\u001b[0m\u001b[0m\n",
            "\u001b[0;31mTypeError\u001b[0m: __init__() missing 1 required positional argument: 'scale'"
          ]
        }
      ]
    },
    {
      "cell_type": "markdown",
      "metadata": {
        "id": "lZUlUoen1-Vf"
      },
      "source": [
        "## Printing out MMD Score"
      ]
    },
    {
      "cell_type": "markdown",
      "metadata": {
        "id": "OUCxN7uOxcQq"
      },
      "source": [
        "FYI the below score does not reflect the actual score for the example shown above, but instead is a score for a different set of synonyms. "
      ]
    },
    {
      "cell_type": "code",
      "metadata": {
        "id": "DZ6gI__cXgu7",
        "outputId": "88760fbf-34a0-4720-99fc-6da0ed97b5b0"
      },
      "source": [
        "print(out)"
      ],
      "execution_count": null,
      "outputs": [
        {
          "output_type": "stream",
          "text": [
            "tensor(-0.6618, dtype=torch.float64)\n"
          ],
          "name": "stdout"
        }
      ]
    },
    {
      "cell_type": "code",
      "metadata": {
        "id": "eOmK7tlUXgu_"
      },
      "source": [
        ""
      ],
      "execution_count": null,
      "outputs": []
    }
  ]
}